{
 "cells": [
  {
   "cell_type": "markdown",
   "metadata": {},
   "source": [
    "# 1.Read Files"
   ]
  },
  {
   "cell_type": "code",
   "execution_count": 67,
   "metadata": {},
   "outputs": [
    {
     "name": "stdout",
     "output_type": "stream",
     "text": [
      "            Date  sulfate  nitrate  ID\n",
      "0     2003-01-01      NaN      NaN   1\n",
      "1     2003-01-02      NaN      NaN   1\n",
      "2     2003-01-03      NaN      NaN   1\n",
      "3     2003-01-04      NaN      NaN   1\n",
      "4     2003-01-05      NaN      NaN   1\n",
      "...          ...      ...      ...  ..\n",
      "1456  2006-12-27      NaN      NaN   1\n",
      "1457  2006-12-28      NaN      NaN   1\n",
      "1458  2006-12-29      NaN      NaN   1\n",
      "1459  2006-12-30      NaN      NaN   1\n",
      "1460  2006-12-31      NaN      NaN   1\n",
      "\n",
      "[1461 rows x 4 columns]\n"
     ]
    }
   ],
   "source": [
    "# Read CSV\n",
    "import pandas as pd\n",
    "data = pd.read_csv('001.csv')\n",
    "print(data)"
   ]
  },
  {
   "cell_type": "code",
   "execution_count": 68,
   "metadata": {},
   "outputs": [
    {
     "name": "stdout",
     "output_type": "stream",
     "text": [
      "   OrderDate   Region       Rep    Item  Units  UnitCost   Total\n",
      "0   1/6/2020     East     Jones  Pencil     95      1.99  189.05\n",
      "1  1/23/2020  Central    Kivell  Binder     50     19.99  999.50\n",
      "2   2/9/2020  Central   Jardine  Pencil     36      4.99  179.64\n",
      "3  2/26/2020  Central      Gill     Pen     27     19.99  539.73\n",
      "4  3/15/2020     West   Sorvino  Pencil     56      2.99  167.44\n",
      "5   4/1/2020     East     Jones  Binder     60      4.99  299.40\n",
      "6  4/18/2020  Central   Andrews  Pencil     75      1.99  149.25\n",
      "7   5/5/2020  Central   Jardine  Pencil     90      4.99  449.10\n",
      "8  5/22/2020     West  Thompson  Pencil     32      1.99   63.68\n"
     ]
    }
   ],
   "source": [
    "# Read excel\n",
    "import pandas as pd\n",
    "df = pd.read_excel ('sample.xlsx', sheet_name='Sheet1')\n",
    "print (df)"
   ]
  },
  {
   "cell_type": "code",
   "execution_count": 69,
   "metadata": {},
   "outputs": [
    {
     "name": "stdout",
     "output_type": "stream",
     "text": [
      "<mysql.connector.connection_cext.CMySQLConnection object at 0x7fab321b10d0>\n"
     ]
    }
   ],
   "source": [
    "# Read from Database\n",
    "import mysql.connector\n",
    "mydb = mysql.connector.connect(\n",
    "  host=\"genome-mysql.cse.ucsc.edu\",\n",
    "  user=\"genome\"\n",
    ")\n",
    "\n",
    "print(mydb)"
   ]
  },
  {
   "cell_type": "code",
   "execution_count": 71,
   "metadata": {},
   "outputs": [
    {
     "name": "stdout",
     "output_type": "stream",
     "text": [
      "['acaChl1', 'ailMel1', 'allMis1', 'allSin1', 'amaVit1', 'anaPla1', 'ancCey1', 'angJap1', 'anoCar1', 'anoCar2', 'anoGam1', 'anoGam3', 'apaSpi1', 'apaVit1', 'apiMel1', 'apiMel2', 'aplCal1', 'aptFor1', 'aptMan1', 'aquChr2', 'araMac1', 'ascSuu1', 'balAcu1', 'balPav1', 'bisBis1', 'bosTau2', 'bosTau3', 'bosTau4', 'bosTau5', 'bosTau6', 'bosTau7', 'bosTau8', 'bosTau9', 'bosTauMd3', 'braFlo1', 'bruMal2', 'bucRhi1', 'burXyl1', 'caeAng2', 'caeJap1', 'caeJap4', 'caePb1', 'caePb2', 'caePb3', 'caeRem2', 'caeRem3', 'caeRem4', 'caeSp111', 'caeSp51', 'calAnn1', 'calJac1', 'calJac3', 'calJac4', 'calMil1', 'canFam1', 'canFam2', 'canFam3', 'canFam4', 'canFam5', 'capCar1', 'carCri1', 'cavPor3', 'cb1', 'cb3', 'cb4', 'ce10', 'ce11', 'ce2', 'ce4', 'ce6', 'cerSim1', 'chaVoc2', 'cheMyd1', 'chlSab2', 'chlUnd1', 'choHof1', 'chrPic1', 'chrPic2', 'ci1', 'ci2', 'ci3', 'colLiv1', 'colStr1', 'corBra1', 'corCor1', 'cotJap2', 'criGri1', 'criGriChoV1', 'criGriChoV2', 'cucCan1', 'danRer1', 'danRer10', 'danRer11', 'danRer2', 'danRer3', 'danRer4', 'danRer5', 'danRer6', 'danRer7', 'dasNov3', 'dipOrd1', 'dirImm1', 'dm1', 'dm2', 'dm3', 'dm6', 'dp2', 'dp3', 'droAna1', 'droAna2', 'droEre1', 'droGri1', 'droMoj1', 'droMoj2', 'droPer1', 'droSec1', 'droSim1', 'droSim2', 'droVir1', 'droVir2', 'droYak1', 'droYak2', 'eboVir3', 'echTel1', 'echTel2', 'egrGar1', 'enhLutNer1', 'equCab1', 'equCab2', 'equCab3', 'eriEur1', 'eriEur2', 'eurHel1', 'falChe1', 'falPer1', 'felCat3', 'felCat4', 'felCat5', 'felCat8', 'felCat9', 'ficAlb2', 'fr1', 'fr2', 'fr3', 'fulGla1', 'gadMor1', 'galGal2', 'galGal3', 'galGal4', 'galGal5', 'galGal6', 'galVar1', 'gasAcu1', 'gavSte1', 'gbMeta', 'geoFor1', 'go', 'go080130', 'go140213', 'go150121', 'go180426', 'gorGor3', 'gorGor4', 'gorGor5', 'gorGor6', 'haeCon2', 'halAlb1', 'halLeu1', 'hetBac1', 'hetGla1', 'hetGla2', 'hg16', 'hg17', 'hg18', 'hg19', 'hg19Patch10', 'hg19Patch13', 'hg38', 'hg38Patch11', 'hgFixed', 'hgcentral', 'information_schema', 'latCha1', 'lepDis1', 'letCam1', 'loaLoa1', 'loxAfr3', 'macEug1', 'macEug2', 'macFas5', 'manPen1', 'melGal1', 'melGal5', 'melHap1', 'melInc2', 'melUnd1', 'merNub1', 'mesUni1', 'micMur1', 'micMur2', 'mm10', 'mm10Patch4', 'mm39', 'mm5', 'mm6', 'mm7', 'mm8', 'mm9', 'monDom1', 'monDom4', 'monDom5', 'musFur1', 'myoLuc2', 'nanPar1', 'nasLar1', 'necAme1', 'neoSch1', 'nipNip1', 'nomLeu1', 'nomLeu2', 'nomLeu3', 'ochPri2', 'ochPri3', 'oncVol1', 'opiHoa1', 'oreNil1', 'oreNil2', 'oreNil3', 'ornAna1', 'ornAna2', 'oryCun2', 'oryLat2', 'otoGar3', 'oviAri1', 'oviAri3', 'oviAri4', 'panPan1', 'panPan2', 'panPan3', 'panRed1', 'panTro1', 'panTro2', 'panTro3', 'panTro4', 'panTro5', 'panTro6', 'papAnu2', 'papAnu4', 'papHam1', 'pelCri1', 'pelSin1', 'performance_schema', 'petMar1', 'petMar2', 'petMar3', 'phaCar1', 'phaLep1', 'phoRub1', 'picPub1', 'ponAbe2', 'ponAbe3', 'priExs1', 'priPac1', 'priPac3', 'proCap1', 'proteins120806', 'proteins121210', 'proteins140122', 'proteins150225', 'proteins160229', 'proteins180404', 'proteome', 'pteGut1', 'pteVam1', 'pygAde1', 'pytBiv1', 'rheMac1', 'rheMac10', 'rheMac2', 'rheMac3', 'rheMac8', 'rhiRox1', 'rn3', 'rn4', 'rn5', 'rn6', 'sacCer1', 'sacCer2', 'sacCer3', 'saiBol1', 'sarHar1', 'serCan1', 'sorAra1', 'sorAra2', 'sp120323', 'sp121210', 'sp140122', 'sp150225', 'sp160229', 'sp180404', 'speTri2', 'strCam1', 'strPur1', 'strPur2', 'strRat2', 'susScr11', 'susScr2', 'susScr3', 'taeGut1', 'taeGut2', 'tarSyr1', 'tarSyr2', 'tauEry1', 'tetNig1', 'tetNig2', 'thaSir1', 'tinGut2', 'triMan1', 'triSpi1', 'triSui1', 'tupBel1', 'turTru2', 'tytAlb1', 'uniProt', 'vicPac1', 'vicPac2', 'visiGene', 'wuhCor1', 'xenLae2', 'xenTro1', 'xenTro2', 'xenTro3', 'xenTro7', 'xenTro9', 'zonAlb1']\n"
     ]
    }
   ],
   "source": [
    "mycursor = mydb.cursor()\n",
    "\n",
    "mycursor.execute(\"SHOW DATABASES\") # show names of all the database\n",
    "# conver query into dataframe\n",
    "data = []\n",
    "for x in mycursor:\n",
    "    data.append(x[0]) # every x here is a tuple, and we only need the the first index \n",
    "    #print(x)\n",
    "    \n",
    "mycursor.close() # close database connection\n",
    "print(data)\n",
    "\n",
    "#for x in mycursor:\n",
    "#  print(x)"
   ]
  },
  {
   "cell_type": "code",
   "execution_count": 72,
   "metadata": {},
   "outputs": [
    {
     "data": {
      "text/html": [
       "<div>\n",
       "<style scoped>\n",
       "    .dataframe tbody tr th:only-of-type {\n",
       "        vertical-align: middle;\n",
       "    }\n",
       "\n",
       "    .dataframe tbody tr th {\n",
       "        vertical-align: top;\n",
       "    }\n",
       "\n",
       "    .dataframe thead th {\n",
       "        text-align: right;\n",
       "    }\n",
       "</style>\n",
       "<table border=\"1\" class=\"dataframe\">\n",
       "  <thead>\n",
       "    <tr style=\"text-align: right;\">\n",
       "      <th></th>\n",
       "      <th>information_schema</th>\n",
       "    </tr>\n",
       "  </thead>\n",
       "  <tbody>\n",
       "    <tr>\n",
       "      <th>0</th>\n",
       "      <td>acaChl1</td>\n",
       "    </tr>\n",
       "    <tr>\n",
       "      <th>1</th>\n",
       "      <td>ailMel1</td>\n",
       "    </tr>\n",
       "    <tr>\n",
       "      <th>2</th>\n",
       "      <td>allMis1</td>\n",
       "    </tr>\n",
       "    <tr>\n",
       "      <th>3</th>\n",
       "      <td>allSin1</td>\n",
       "    </tr>\n",
       "    <tr>\n",
       "      <th>4</th>\n",
       "      <td>amaVit1</td>\n",
       "    </tr>\n",
       "    <tr>\n",
       "      <th>...</th>\n",
       "      <td>...</td>\n",
       "    </tr>\n",
       "    <tr>\n",
       "      <th>330</th>\n",
       "      <td>xenTro2</td>\n",
       "    </tr>\n",
       "    <tr>\n",
       "      <th>331</th>\n",
       "      <td>xenTro3</td>\n",
       "    </tr>\n",
       "    <tr>\n",
       "      <th>332</th>\n",
       "      <td>xenTro7</td>\n",
       "    </tr>\n",
       "    <tr>\n",
       "      <th>333</th>\n",
       "      <td>xenTro9</td>\n",
       "    </tr>\n",
       "    <tr>\n",
       "      <th>334</th>\n",
       "      <td>zonAlb1</td>\n",
       "    </tr>\n",
       "  </tbody>\n",
       "</table>\n",
       "<p>335 rows × 1 columns</p>\n",
       "</div>"
      ],
      "text/plain": [
       "    information_schema\n",
       "0              acaChl1\n",
       "1              ailMel1\n",
       "2              allMis1\n",
       "3              allSin1\n",
       "4              amaVit1\n",
       "..                 ...\n",
       "330            xenTro2\n",
       "331            xenTro3\n",
       "332            xenTro7\n",
       "333            xenTro9\n",
       "334            zonAlb1\n",
       "\n",
       "[335 rows x 1 columns]"
      ]
     },
     "execution_count": 72,
     "metadata": {},
     "output_type": "execute_result"
    }
   ],
   "source": [
    "# create dataframe\n",
    "df = pd.DataFrame(data, columns=[\"information_schema\"])\n",
    "df"
   ]
  },
  {
   "cell_type": "code",
   "execution_count": 73,
   "metadata": {},
   "outputs": [
    {
     "name": "stdout",
     "output_type": "stream",
     "text": [
      "              Tables\n",
      "0               HInv\n",
      "1       HInvGeneMrna\n",
      "2            acembly\n",
      "3       acemblyClass\n",
      "4         acemblyPep\n",
      "...              ...\n",
      "12513        xenoEst\n",
      "12514       xenoMrna\n",
      "12515    xenoRefFlat\n",
      "12516    xenoRefGene\n",
      "12517  xenoRefSeqAli\n",
      "\n",
      "[12518 rows x 1 columns]\n"
     ]
    }
   ],
   "source": [
    "# Connect to specific database\n",
    "mydb = mysql.connector.connect(\n",
    "  host=\"genome-mysql.cse.ucsc.edu\",\n",
    "  user=\"genome\",\n",
    "  database=\"hg19\"\n",
    ")\n",
    "# cursor.execute(\"USE mydatabase\") # select the database\n",
    "mycursor = mydb.cursor()\n",
    "mycursor.execute(\"SHOW TABLES\")\n",
    "tables = mycursor.fetchall() # tables are list of tuples [(,)]\n",
    "\n",
    "# convert query into data frame\n",
    "data_tables = []\n",
    "for table in tables:\n",
    "    data_tables.append(table[0])\n",
    "data_tables = pd.DataFrame(data_tables, columns=[\"Tables\"])\n",
    "mycursor.close()\n",
    "print(data_tables)\n"
   ]
  },
  {
   "cell_type": "code",
   "execution_count": 74,
   "metadata": {},
   "outputs": [
    {
     "data": {
      "text/plain": [
       "12518"
      ]
     },
     "execution_count": 74,
     "metadata": {},
     "output_type": "execute_result"
    }
   ],
   "source": [
    "len(data_tables)"
   ]
  },
  {
   "cell_type": "code",
   "execution_count": 75,
   "metadata": {},
   "outputs": [
    {
     "data": {
      "text/html": [
       "<div>\n",
       "<style scoped>\n",
       "    .dataframe tbody tr th:only-of-type {\n",
       "        vertical-align: middle;\n",
       "    }\n",
       "\n",
       "    .dataframe tbody tr th {\n",
       "        vertical-align: top;\n",
       "    }\n",
       "\n",
       "    .dataframe thead th {\n",
       "        text-align: right;\n",
       "    }\n",
       "</style>\n",
       "<table border=\"1\" class=\"dataframe\">\n",
       "  <thead>\n",
       "    <tr style=\"text-align: right;\">\n",
       "      <th></th>\n",
       "      <th>Tables</th>\n",
       "    </tr>\n",
       "  </thead>\n",
       "  <tbody>\n",
       "    <tr>\n",
       "      <th>0</th>\n",
       "      <td>HInv</td>\n",
       "    </tr>\n",
       "    <tr>\n",
       "      <th>1</th>\n",
       "      <td>HInvGeneMrna</td>\n",
       "    </tr>\n",
       "    <tr>\n",
       "      <th>2</th>\n",
       "      <td>acembly</td>\n",
       "    </tr>\n",
       "    <tr>\n",
       "      <th>3</th>\n",
       "      <td>acemblyClass</td>\n",
       "    </tr>\n",
       "    <tr>\n",
       "      <th>4</th>\n",
       "      <td>acemblyPep</td>\n",
       "    </tr>\n",
       "  </tbody>\n",
       "</table>\n",
       "</div>"
      ],
      "text/plain": [
       "         Tables\n",
       "0          HInv\n",
       "1  HInvGeneMrna\n",
       "2       acembly\n",
       "3  acemblyClass\n",
       "4    acemblyPep"
      ]
     },
     "execution_count": 75,
     "metadata": {},
     "output_type": "execute_result"
    }
   ],
   "source": [
    "data_tables[0:5]"
   ]
  },
  {
   "cell_type": "code",
   "execution_count": 76,
   "metadata": {},
   "outputs": [
    {
     "name": "stdout",
     "output_type": "stream",
     "text": [
      "[('bin', 'smallint(5) unsigned', 'NO', '', None, ''), ('name', 'varchar(255)', 'NO', 'MUL', None, ''), ('chrom', 'varchar(255)', 'NO', 'MUL', None, ''), ('strand', 'char(1)', 'NO', '', None, ''), ('txStart', 'int(10) unsigned', 'NO', '', None, ''), ('txEnd', 'int(10) unsigned', 'NO', '', None, ''), ('cdsStart', 'int(10) unsigned', 'NO', '', None, ''), ('cdsEnd', 'int(10) unsigned', 'NO', '', None, ''), ('exonCount', 'int(10) unsigned', 'NO', '', None, ''), ('exonStarts', 'longblob', 'NO', '', None, ''), ('exonEnds', 'longblob', 'NO', '', None, '')]\n"
     ]
    }
   ],
   "source": [
    "# show all columns\n",
    "mydb = mysql.connector.connect(\n",
    "  host=\"genome-mysql.cse.ucsc.edu\",\n",
    "  user=\"genome\",\n",
    "  database=\"hg19\"\n",
    ")\n",
    "mycursor = mydb.cursor()\n",
    "mycursor.execute(\"describe acembly\")\n",
    "fields = mycursor.fetchall()# fields now is a list of tuples [(,)]\n",
    "mycursor.close()\n",
    "print(fields)"
   ]
  },
  {
   "cell_type": "code",
   "execution_count": 77,
   "metadata": {
    "scrolled": true
   },
   "outputs": [
    {
     "name": "stdout",
     "output_type": "stream",
     "text": [
      "        Fields\n",
      "0          bin\n",
      "1         name\n",
      "2        chrom\n",
      "3       strand\n",
      "4      txStart\n",
      "5        txEnd\n",
      "6     cdsStart\n",
      "7       cdsEnd\n",
      "8    exonCount\n",
      "9   exonStarts\n",
      "10    exonEnds\n"
     ]
    }
   ],
   "source": [
    "# convert into dataframe\n",
    "data_fields = []\n",
    "for field in fields:\n",
    "    data_fields.append(field[0])\n",
    "data_fields = pd.DataFrame(data_fields, columns=[\"Fields\"])\n",
    "print(data_fields)"
   ]
  },
  {
   "cell_type": "code",
   "execution_count": 78,
   "metadata": {},
   "outputs": [],
   "source": [
    "# similary for other query : Count, Insert, Delete"
   ]
  },
  {
   "cell_type": "code",
   "execution_count": null,
   "metadata": {},
   "outputs": [],
   "source": []
  }
 ],
 "metadata": {
  "kernelspec": {
   "display_name": "Python 3",
   "language": "python",
   "name": "python3"
  },
  "language_info": {
   "codemirror_mode": {
    "name": "ipython",
    "version": 3
   },
   "file_extension": ".py",
   "mimetype": "text/x-python",
   "name": "python",
   "nbconvert_exporter": "python",
   "pygments_lexer": "ipython3",
   "version": "3.7.6"
  }
 },
 "nbformat": 4,
 "nbformat_minor": 4
}
